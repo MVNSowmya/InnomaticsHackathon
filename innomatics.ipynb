{
 "cells": [
  {
   "cell_type": "code",
   "execution_count": 1,
   "metadata": {},
   "outputs": [],
   "source": [
    "# Importing the required libraries\n",
    "\n",
    "import numpy as no\n",
    "import pandas as pd"
   ]
  },
  {
   "cell_type": "code",
   "execution_count": 2,
   "metadata": {},
   "outputs": [],
   "source": [
    "# Read the necessary file or upload it into python environment\n",
    "\n",
    "data=pd.read_csv(\"data.csv\")"
   ]
  },
  {
   "cell_type": "code",
   "execution_count": 7,
   "metadata": {},
   "outputs": [
    {
     "data": {
      "text/html": [
       "<div>\n",
       "<style scoped>\n",
       "    .dataframe tbody tr th:only-of-type {\n",
       "        vertical-align: middle;\n",
       "    }\n",
       "\n",
       "    .dataframe tbody tr th {\n",
       "        vertical-align: top;\n",
       "    }\n",
       "\n",
       "    .dataframe thead th {\n",
       "        text-align: right;\n",
       "    }\n",
       "</style>\n",
       "<table border=\"1\" class=\"dataframe\">\n",
       "  <thead>\n",
       "    <tr style=\"text-align: right;\">\n",
       "      <th></th>\n",
       "      <th>x1</th>\n",
       "      <th>x2</th>\n",
       "      <th>y</th>\n",
       "    </tr>\n",
       "  </thead>\n",
       "  <tbody>\n",
       "    <tr>\n",
       "      <th>0</th>\n",
       "      <td>-119.366669</td>\n",
       "      <td>1.150000e+02</td>\n",
       "      <td>1</td>\n",
       "    </tr>\n",
       "    <tr>\n",
       "      <th>1</th>\n",
       "      <td>-101.108044</td>\n",
       "      <td>9.777716e+01</td>\n",
       "      <td>1</td>\n",
       "    </tr>\n",
       "    <tr>\n",
       "      <th>2</th>\n",
       "      <td>-130.278658</td>\n",
       "      <td>1.067677e+02</td>\n",
       "      <td>1</td>\n",
       "    </tr>\n",
       "    <tr>\n",
       "      <th>3</th>\n",
       "      <td>-114.703415</td>\n",
       "      <td>1.011955e+02</td>\n",
       "      <td>1</td>\n",
       "    </tr>\n",
       "    <tr>\n",
       "      <th>4</th>\n",
       "      <td>-119.366669</td>\n",
       "      <td>1.150000e+02</td>\n",
       "      <td>1</td>\n",
       "    </tr>\n",
       "    <tr>\n",
       "      <th>...</th>\n",
       "      <td>...</td>\n",
       "      <td>...</td>\n",
       "      <td>...</td>\n",
       "    </tr>\n",
       "    <tr>\n",
       "      <th>2222</th>\n",
       "      <td>98.714112</td>\n",
       "      <td>8.964312e+01</td>\n",
       "      <td>0</td>\n",
       "    </tr>\n",
       "    <tr>\n",
       "      <th>2223</th>\n",
       "      <td>96.633331</td>\n",
       "      <td>9.100000e+01</td>\n",
       "      <td>0</td>\n",
       "    </tr>\n",
       "    <tr>\n",
       "      <th>2224</th>\n",
       "      <td>85.673940</td>\n",
       "      <td>1.038393e+02</td>\n",
       "      <td>0</td>\n",
       "    </tr>\n",
       "    <tr>\n",
       "      <th>2225</th>\n",
       "      <td>78.958862</td>\n",
       "      <td>7.860537e+01</td>\n",
       "      <td>0</td>\n",
       "    </tr>\n",
       "    <tr>\n",
       "      <th>2226</th>\n",
       "      <td>109.624009</td>\n",
       "      <td>1.000000e+08</td>\n",
       "      <td>0</td>\n",
       "    </tr>\n",
       "  </tbody>\n",
       "</table>\n",
       "<p>2227 rows × 3 columns</p>\n",
       "</div>"
      ],
      "text/plain": [
       "              x1            x2  y\n",
       "0    -119.366669  1.150000e+02  1\n",
       "1    -101.108044  9.777716e+01  1\n",
       "2    -130.278658  1.067677e+02  1\n",
       "3    -114.703415  1.011955e+02  1\n",
       "4    -119.366669  1.150000e+02  1\n",
       "...          ...           ... ..\n",
       "2222   98.714112  8.964312e+01  0\n",
       "2223   96.633331  9.100000e+01  0\n",
       "2224   85.673940  1.038393e+02  0\n",
       "2225   78.958862  7.860537e+01  0\n",
       "2226  109.624009  1.000000e+08  0\n",
       "\n",
       "[2227 rows x 3 columns]"
      ]
     },
     "execution_count": 7,
     "metadata": {},
     "output_type": "execute_result"
    }
   ],
   "source": [
    "# Displays the number of rows, columns and what are the columns present\n",
    "\n",
    "data"
   ]
  },
  {
   "cell_type": "code",
   "execution_count": null,
   "metadata": {},
   "outputs": [],
   "source": [
    "# Therefore, in the given dataset, there are 2227 rows and 3 columns are present."
   ]
  },
  {
   "cell_type": "code",
   "execution_count": 4,
   "metadata": {
    "scrolled": true
   },
   "outputs": [
    {
     "data": {
      "text/plain": [
       "x1    5\n",
       "x2    3\n",
       "y     0\n",
       "dtype: int64"
      ]
     },
     "execution_count": 4,
     "metadata": {},
     "output_type": "execute_result"
    }
   ],
   "source": [
    "# Identifying the missing values\n",
    "\n",
    "missing_data=data.isnull().sum()\n",
    "missing_data"
   ]
  },
  {
   "cell_type": "code",
   "execution_count": 11,
   "metadata": {},
   "outputs": [
    {
     "data": {
      "text/plain": [
       "<matplotlib.axes._subplots.AxesSubplot at 0x1907ffd6ba8>"
      ]
     },
     "execution_count": 11,
     "metadata": {},
     "output_type": "execute_result"
    },
    {
     "data": {
      "image/png": "[encoded data removed]",
      "text/plain": [
       "<Figure size 432x288 with 1 Axes>"
      ]
     },
     "metadata": {
      "needs_background": "light"
     },
     "output_type": "display_data"
    }
   ],
   "source": [
    "#Visual representation of the missing values\n",
    "\n",
    "import seaborn as sns\n",
    "\n",
    "sns.heatmap(data.isnull(),yticklabels=False,cbar=False,cmap=\"viridis\")"
   ]
  },
  {
   "cell_type": "code",
   "execution_count": null,
   "metadata": {},
   "outputs": [],
   "source": [
    "# It is observed that out of 2227 rows present in the dataset, only '5' values of 'x1' & '3' values of 'x2' are missing. \n",
    "# Hence, they are considered to be negligible and the missing values can be dropped."
   ]
  },
  {
   "cell_type": "code",
   "execution_count": 14,
   "metadata": {},
   "outputs": [],
   "source": [
    "#The missing values rows can be dropped off as they are negligible using 'dropna' command.\n",
    "\n",
    "data=data.dropna()"
   ]
  },
  {
   "cell_type": "code",
   "execution_count": 15,
   "metadata": {},
   "outputs": [
    {
     "data": {
      "text/plain": [
       "x1    0\n",
       "x2    0\n",
       "y     0\n",
       "dtype: int64"
      ]
     },
     "execution_count": 15,
     "metadata": {},
     "output_type": "execute_result"
    }
   ],
   "source": [
    "#Now, if we check for missing values,\n",
    "\n",
    "missing_data1=data.isnull().sum()\n",
    "missing_data1"
   ]
  },
  {
   "cell_type": "code",
   "execution_count": 16,
   "metadata": {},
   "outputs": [
    {
     "name": "stdout",
     "output_type": "stream",
     "text": [
      "<class 'pandas.core.frame.DataFrame'>\n",
      "Int64Index: 2219 entries, 0 to 2226\n",
      "Data columns (total 3 columns):\n",
      " #   Column  Non-Null Count  Dtype  \n",
      "---  ------  --------------  -----  \n",
      " 0   x1      2219 non-null   float64\n",
      " 1   x2      2219 non-null   float64\n",
      " 2   y       2219 non-null   int64  \n",
      "dtypes: float64(2), int64(1)\n",
      "memory usage: 69.3 KB\n"
     ]
    }
   ],
   "source": [
    "#Type of variables:\n",
    "\n",
    "data.info()"
   ]
  },
  {
   "cell_type": "code",
   "execution_count": 17,
   "metadata": {},
   "outputs": [
    {
     "data": {
      "text/plain": [
       "<seaborn.axisgrid.PairGrid at 0x1900018c908>"
      ]
     },
     "execution_count": 17,
     "metadata": {},
     "output_type": "execute_result"
    },
    {
     "data": {
      "image/png": "[encoded data removed]",
      "text/plain": [
       "<Figure size 540x540 with 12 Axes>"
      ]
     },
     "metadata": {
      "needs_background": "light"
     },
     "output_type": "display_data"
    }
   ],
   "source": [
    "# All the variables are of numerical type.\n",
    "\n",
    "#Pairwise relationships\n",
    "\n",
    "import seaborn as sns\n",
    "sns.pairplot(data)"
   ]
  },
  {
   "cell_type": "code",
   "execution_count": 18,
   "metadata": {},
   "outputs": [
    {
     "data": {
      "text/html": [
       "<div>\n",
       "<style scoped>\n",
       "    .dataframe tbody tr th:only-of-type {\n",
       "        vertical-align: middle;\n",
       "    }\n",
       "\n",
       "    .dataframe tbody tr th {\n",
       "        vertical-align: top;\n",
       "    }\n",
       "\n",
       "    .dataframe thead th {\n",
       "        text-align: right;\n",
       "    }\n",
       "</style>\n",
       "<table border=\"1\" class=\"dataframe\">\n",
       "  <thead>\n",
       "    <tr style=\"text-align: right;\">\n",
       "      <th></th>\n",
       "      <th>x1</th>\n",
       "      <th>x2</th>\n",
       "      <th>y</th>\n",
       "    </tr>\n",
       "  </thead>\n",
       "  <tbody>\n",
       "    <tr>\n",
       "      <th>x1</th>\n",
       "      <td>1.000000</td>\n",
       "      <td>0.037288</td>\n",
       "      <td>-0.120871</td>\n",
       "    </tr>\n",
       "    <tr>\n",
       "      <th>x2</th>\n",
       "      <td>0.037288</td>\n",
       "      <td>1.000000</td>\n",
       "      <td>-0.026735</td>\n",
       "    </tr>\n",
       "    <tr>\n",
       "      <th>y</th>\n",
       "      <td>-0.120871</td>\n",
       "      <td>-0.026735</td>\n",
       "      <td>1.000000</td>\n",
       "    </tr>\n",
       "  </tbody>\n",
       "</table>\n",
       "</div>"
      ],
      "text/plain": [
       "          x1        x2         y\n",
       "x1  1.000000  0.037288 -0.120871\n",
       "x2  0.037288  1.000000 -0.026735\n",
       "y  -0.120871 -0.026735  1.000000"
      ]
     },
     "execution_count": 18,
     "metadata": {},
     "output_type": "execute_result"
    }
   ],
   "source": [
    "#Pairwise relationship between continous variables\n",
    "\n",
    "corr=data.corr()\n",
    "corr"
   ]
  },
  {
   "cell_type": "code",
   "execution_count": 19,
   "metadata": {},
   "outputs": [
    {
     "data": {
      "text/plain": [
       "<matplotlib.axes._subplots.AxesSubplot at 0x190006f8828>"
      ]
     },
     "execution_count": 19,
     "metadata": {},
     "output_type": "execute_result"
    },
    {
     "data": {
      "image/png": "[encoded data removed]",
      "text/plain": [
       "<Figure size 648x576 with 2 Axes>"
      ]
     },
     "metadata": {
      "needs_background": "light"
     },
     "output_type": "display_data"
    }
   ],
   "source": [
    "import matplotlib.pyplot as plt\n",
    "f, ax = plt.subplots(figsize =(9, 8)) \n",
    "sns.heatmap(corr, ax = ax, cmap =\"YlGnBu\", linewidths = 0.1) "
   ]
  },
  {
   "cell_type": "code",
   "execution_count": null,
   "metadata": {},
   "outputs": [],
   "source": [
    "#From the plot, we can observe that there is no much correlation between any two variables."
   ]
  },
  {
   "cell_type": "code",
   "execution_count": 23,
   "metadata": {},
   "outputs": [
    {
     "data": {
      "text/html": [
       "<div>\n",
       "<style scoped>\n",
       "    .dataframe tbody tr th:only-of-type {\n",
       "        vertical-align: middle;\n",
       "    }\n",
       "\n",
       "    .dataframe tbody tr th {\n",
       "        vertical-align: top;\n",
       "    }\n",
       "\n",
       "    .dataframe thead th {\n",
       "        text-align: right;\n",
       "    }\n",
       "</style>\n",
       "<table border=\"1\" class=\"dataframe\">\n",
       "  <thead>\n",
       "    <tr style=\"text-align: right;\">\n",
       "      <th></th>\n",
       "      <th>x1</th>\n",
       "      <th>x2</th>\n",
       "      <th>y</th>\n",
       "    </tr>\n",
       "  </thead>\n",
       "  <tbody>\n",
       "    <tr>\n",
       "      <th>count</th>\n",
       "      <td>2219.000000</td>\n",
       "      <td>2.219000e+03</td>\n",
       "      <td>2219.000000</td>\n",
       "    </tr>\n",
       "    <tr>\n",
       "      <th>mean</th>\n",
       "      <td>-4.771837</td>\n",
       "      <td>8.967782e+04</td>\n",
       "      <td>0.442091</td>\n",
       "    </tr>\n",
       "    <tr>\n",
       "      <th>std</th>\n",
       "      <td>74.938264</td>\n",
       "      <td>2.986680e+06</td>\n",
       "      <td>0.496747</td>\n",
       "    </tr>\n",
       "    <tr>\n",
       "      <th>min</th>\n",
       "      <td>-134.369160</td>\n",
       "      <td>-1.348761e+02</td>\n",
       "      <td>0.000000</td>\n",
       "    </tr>\n",
       "    <tr>\n",
       "      <th>25%</th>\n",
       "      <td>-71.581453</td>\n",
       "      <td>-8.025966e+01</td>\n",
       "      <td>0.000000</td>\n",
       "    </tr>\n",
       "    <tr>\n",
       "      <th>50%</th>\n",
       "      <td>-9.750840</td>\n",
       "      <td>-1.566092e+00</td>\n",
       "      <td>0.000000</td>\n",
       "    </tr>\n",
       "    <tr>\n",
       "      <th>75%</th>\n",
       "      <td>59.963056</td>\n",
       "      <td>6.390448e+01</td>\n",
       "      <td>1.000000</td>\n",
       "    </tr>\n",
       "    <tr>\n",
       "      <th>90%</th>\n",
       "      <td>97.633331</td>\n",
       "      <td>9.927624e+01</td>\n",
       "      <td>1.000000</td>\n",
       "    </tr>\n",
       "    <tr>\n",
       "      <th>95%</th>\n",
       "      <td>113.027748</td>\n",
       "      <td>1.137850e+02</td>\n",
       "      <td>1.000000</td>\n",
       "    </tr>\n",
       "    <tr>\n",
       "      <th>99%</th>\n",
       "      <td>128.120693</td>\n",
       "      <td>1.291919e+02</td>\n",
       "      <td>1.000000</td>\n",
       "    </tr>\n",
       "    <tr>\n",
       "      <th>max</th>\n",
       "      <td>134.508687</td>\n",
       "      <td>1.000000e+08</td>\n",
       "      <td>1.000000</td>\n",
       "    </tr>\n",
       "  </tbody>\n",
       "</table>\n",
       "</div>"
      ],
      "text/plain": [
       "                x1            x2            y\n",
       "count  2219.000000  2.219000e+03  2219.000000\n",
       "mean     -4.771837  8.967782e+04     0.442091\n",
       "std      74.938264  2.986680e+06     0.496747\n",
       "min    -134.369160 -1.348761e+02     0.000000\n",
       "25%     -71.581453 -8.025966e+01     0.000000\n",
       "50%      -9.750840 -1.566092e+00     0.000000\n",
       "75%      59.963056  6.390448e+01     1.000000\n",
       "90%      97.633331  9.927624e+01     1.000000\n",
       "95%     113.027748  1.137850e+02     1.000000\n",
       "99%     128.120693  1.291919e+02     1.000000\n",
       "max     134.508687  1.000000e+08     1.000000"
      ]
     },
     "execution_count": 23,
     "metadata": {},
     "output_type": "execute_result"
    }
   ],
   "source": [
    "#Checking for outliers\n",
    "\n",
    "data.describe(percentiles=[.25,.5,.75,.90,.95,.99])"
   ]
  },
  {
   "cell_type": "code",
   "execution_count": 68,
   "metadata": {},
   "outputs": [],
   "source": [
    "#Preparation of data\n",
    "\n",
    "X = data.iloc[:, :-1].values  \n",
    "y = data.iloc[:, 2].values"
   ]
  },
  {
   "cell_type": "code",
   "execution_count": 69,
   "metadata": {},
   "outputs": [
    {
     "data": {
      "text/plain": [
       "((2219, 2), (2219,))"
      ]
     },
     "execution_count": 69,
     "metadata": {},
     "output_type": "execute_result"
    }
   ],
   "source": [
    "#Divided the data into attributes(input) and output variables\n",
    "\n",
    "X.shape,y.shape"
   ]
  },
  {
   "cell_type": "code",
   "execution_count": 70,
   "metadata": {},
   "outputs": [],
   "source": [
    "#Training the model\n",
    "\n",
    "from sklearn.model_selection import train_test_split\n",
    "X_train, X_test, y_train, y_test = train_test_split(X, y, test_size=0.3, random_state=101)"
   ]
  },
  {
   "cell_type": "code",
   "execution_count": 72,
   "metadata": {},
   "outputs": [],
   "source": [
    "#Defining the model\n",
    "\n",
    "from sklearn.model_selection import train_test_split\n",
    "from sklearn.tree import DecisionTreeClassifier"
   ]
  },
  {
   "cell_type": "code",
   "execution_count": 73,
   "metadata": {},
   "outputs": [
    {
     "data": {
      "text/plain": [
       "DecisionTreeClassifier(class_weight=None, criterion='gini', max_depth=None,\n",
       "                       max_features=None, max_leaf_nodes=None,\n",
       "                       min_impurity_decrease=0.0, min_impurity_split=None,\n",
       "                       min_samples_leaf=1, min_samples_split=2,\n",
       "                       min_weight_fraction_leaf=0.0, presort=False,\n",
       "                       random_state=1234, splitter='best')"
      ]
     },
     "execution_count": 73,
     "metadata": {},
     "output_type": "execute_result"
    }
   ],
   "source": [
    "dt = DecisionTreeClassifier(random_state=1234)#max_depth = 8, min_samples_leaf=20)\n",
    "dt.fit(X_train, y_train)"
   ]
  },
  {
   "cell_type": "code",
   "execution_count": 74,
   "metadata": {},
   "outputs": [
    {
     "data": {
      "text/plain": [
       "array([1, 0, 1, 0, 1, 1, 1, 1, 0, 1, 1, 0, 1, 1, 0, 0, 0, 0, 1, 1, 1, 0,\n",
       "       1, 0, 0, 0, 0, 0, 0, 0, 0, 0, 0, 0, 0, 1, 0, 0, 0, 1, 0, 0, 1, 1,\n",
       "       1, 0, 1, 0, 0, 0, 1, 0, 1, 0, 0, 0, 1, 1, 0, 1, 0, 1, 0, 0, 1, 0,\n",
       "       0, 1, 0, 0, 0, 0, 0, 1, 1, 1, 0, 1, 1, 1, 0, 1, 0, 1, 1, 1, 0, 0,\n",
       "       0, 1, 0, 1, 1, 1, 0, 1, 1, 1, 0, 1, 0, 0, 1, 1, 1, 0, 1, 0, 0, 0,\n",
       "       1, 0, 1, 0, 1, 0, 0, 0, 0, 0, 1, 0, 0, 0, 1, 1, 1, 0, 1, 0, 1, 1,\n",
       "       0, 1, 1, 0, 0, 0, 0, 1, 0, 1, 0, 1, 1, 1, 0, 1, 1, 0, 0, 0, 0, 1,\n",
       "       0, 0, 1, 1, 1, 0, 0, 1, 1, 0, 1, 0, 0, 1, 0, 0, 1, 1, 1, 1, 1, 0,\n",
       "       1, 0, 1, 0, 0, 0, 1, 0, 0, 1, 0, 1, 0, 1, 0, 1, 0, 1, 0, 1, 1, 0,\n",
       "       1, 0, 0, 1, 1, 1, 1, 1, 1, 1, 0, 0, 0, 1, 1, 0, 1, 1, 0, 0, 1, 1,\n",
       "       0, 1, 0, 1, 0, 1, 0, 1, 0, 0, 1, 0, 1, 1, 0, 0, 0, 1, 1, 1, 1, 1,\n",
       "       0, 0, 1, 0, 0, 0, 1, 0, 1, 0, 1, 1, 0, 1, 1, 0, 0, 1, 0, 1, 0, 1,\n",
       "       0, 0, 1, 0, 0, 1, 0, 1, 1, 0, 0, 1, 1, 0, 1, 1, 0, 0, 0, 1, 1, 0,\n",
       "       1, 0, 0, 0, 1, 0, 1, 1, 0, 1, 1, 1, 1, 0, 1, 0, 0, 1, 1, 1, 0, 0,\n",
       "       0, 0, 1, 0, 0, 1, 0, 1, 1, 0, 1, 0, 0, 0, 0, 1, 0, 0, 1, 0, 1, 0,\n",
       "       1, 0, 0, 1, 0, 0, 1, 0, 0, 1, 0, 1, 1, 1, 1, 1, 1, 1, 0, 0, 0, 1,\n",
       "       0, 1, 1, 0, 0, 1, 1, 0, 0, 0, 1, 0, 1, 0, 1, 1, 0, 1, 0, 1, 0, 0,\n",
       "       0, 0, 1, 1, 0, 0, 0, 0, 0, 0, 1, 0, 0, 0, 1, 1, 1, 0, 1, 0, 0, 1,\n",
       "       1, 0, 0, 0, 1, 1, 1, 1, 1, 0, 1, 0, 0, 0, 1, 1, 0, 0, 1, 0, 0, 0,\n",
       "       1, 0, 0, 1, 0, 0, 1, 1, 0, 1, 0, 0, 1, 0, 0, 1, 1, 1, 1, 0, 0, 0,\n",
       "       0, 1, 0, 1, 1, 0, 1, 1, 0, 0, 0, 1, 0, 1, 0, 0, 1, 1, 0, 1, 0, 0,\n",
       "       0, 0, 1, 0, 1, 1, 1, 1, 1, 1, 1, 0, 0, 0, 1, 0, 1, 0, 1, 1, 1, 0,\n",
       "       0, 1, 1, 0, 0, 0, 1, 1, 0, 1, 0, 0, 0, 1, 0, 1, 0, 1, 0, 1, 0, 0,\n",
       "       0, 0, 0, 0, 0, 0, 0, 0, 1, 1, 1, 0, 1, 0, 0, 0, 1, 0, 1, 1, 0, 1,\n",
       "       1, 1, 0, 0, 0, 1, 0, 0, 1, 0, 0, 0, 1, 0, 0, 0, 0, 1, 0, 0, 1, 1,\n",
       "       1, 1, 1, 0, 0, 0, 1, 1, 0, 0, 1, 0, 0, 0, 0, 0, 0, 1, 0, 1, 0, 1,\n",
       "       0, 1, 1, 0, 1, 1, 0, 1, 1, 0, 1, 1, 0, 0, 1, 0, 0, 0, 0, 1, 0, 0,\n",
       "       0, 0, 0, 1, 0, 1, 0, 1, 0, 0, 0, 1, 0, 0, 1, 0, 1, 0, 1, 1, 0, 1,\n",
       "       1, 1, 1, 1, 0, 1, 0, 0, 1, 1, 1, 1, 0, 1, 1, 1, 0, 1, 0, 1, 1, 1,\n",
       "       1, 0, 0, 1, 0, 0, 1, 1, 1, 0, 0, 1, 1, 1, 0, 1, 0, 1, 1, 1, 0, 0,\n",
       "       0, 0, 1, 0, 0, 0], dtype=int64)"
      ]
     },
     "execution_count": 74,
     "metadata": {},
     "output_type": "execute_result"
    }
   ],
   "source": [
    "#Predict the labels for test data\n",
    "\n",
    "predictions=dt.predict(X_test)\n",
    "predictions"
   ]
  },
  {
   "cell_type": "code",
   "execution_count": 75,
   "metadata": {},
   "outputs": [
    {
     "data": {
      "text/html": [
       "<div>\n",
       "<style scoped>\n",
       "    .dataframe tbody tr th:only-of-type {\n",
       "        vertical-align: middle;\n",
       "    }\n",
       "\n",
       "    .dataframe tbody tr th {\n",
       "        vertical-align: top;\n",
       "    }\n",
       "\n",
       "    .dataframe thead th {\n",
       "        text-align: right;\n",
       "    }\n",
       "</style>\n",
       "<table border=\"1\" class=\"dataframe\">\n",
       "  <thead>\n",
       "    <tr style=\"text-align: right;\">\n",
       "      <th></th>\n",
       "      <th>Actual</th>\n",
       "      <th>Predicted</th>\n",
       "    </tr>\n",
       "  </thead>\n",
       "  <tbody>\n",
       "    <tr>\n",
       "      <th>0</th>\n",
       "      <td>1</td>\n",
       "      <td>1</td>\n",
       "    </tr>\n",
       "    <tr>\n",
       "      <th>1</th>\n",
       "      <td>0</td>\n",
       "      <td>0</td>\n",
       "    </tr>\n",
       "    <tr>\n",
       "      <th>2</th>\n",
       "      <td>1</td>\n",
       "      <td>1</td>\n",
       "    </tr>\n",
       "    <tr>\n",
       "      <th>3</th>\n",
       "      <td>0</td>\n",
       "      <td>0</td>\n",
       "    </tr>\n",
       "    <tr>\n",
       "      <th>4</th>\n",
       "      <td>1</td>\n",
       "      <td>1</td>\n",
       "    </tr>\n",
       "    <tr>\n",
       "      <th>...</th>\n",
       "      <td>...</td>\n",
       "      <td>...</td>\n",
       "    </tr>\n",
       "    <tr>\n",
       "      <th>661</th>\n",
       "      <td>0</td>\n",
       "      <td>0</td>\n",
       "    </tr>\n",
       "    <tr>\n",
       "      <th>662</th>\n",
       "      <td>0</td>\n",
       "      <td>1</td>\n",
       "    </tr>\n",
       "    <tr>\n",
       "      <th>663</th>\n",
       "      <td>0</td>\n",
       "      <td>0</td>\n",
       "    </tr>\n",
       "    <tr>\n",
       "      <th>664</th>\n",
       "      <td>0</td>\n",
       "      <td>0</td>\n",
       "    </tr>\n",
       "    <tr>\n",
       "      <th>665</th>\n",
       "      <td>0</td>\n",
       "      <td>0</td>\n",
       "    </tr>\n",
       "  </tbody>\n",
       "</table>\n",
       "<p>666 rows × 2 columns</p>\n",
       "</div>"
      ],
      "text/plain": [
       "     Actual  Predicted\n",
       "0         1          1\n",
       "1         0          0\n",
       "2         1          1\n",
       "3         0          0\n",
       "4         1          1\n",
       "..      ...        ...\n",
       "661       0          0\n",
       "662       0          1\n",
       "663       0          0\n",
       "664       0          0\n",
       "665       0          0\n",
       "\n",
       "[666 rows x 2 columns]"
      ]
     },
     "execution_count": 75,
     "metadata": {},
     "output_type": "execute_result"
    }
   ],
   "source": [
    "#Comparing actual vs predicted values\n",
    "\n",
    "df = pd.DataFrame({'Actual': y_test, 'Predicted': predictions})  \n",
    "df"
   ]
  },
  {
   "cell_type": "code",
   "execution_count": 76,
   "metadata": {},
   "outputs": [
    {
     "name": "stdout",
     "output_type": "stream",
     "text": [
      "Training Score\n",
      "1.0\n",
      "Test Score\n",
      "0.9174174174174174\n"
     ]
    }
   ],
   "source": [
    "#Check for the accuracy\n",
    "\n",
    "print('Training Score')\n",
    "print(dt.score(X_train, y_train))\n",
    "\n",
    "print('Test Score')\n",
    "print(dt.score(X_test, y_test))"
   ]
  },
  {
   "cell_type": "code",
   "execution_count": 77,
   "metadata": {},
   "outputs": [
    {
     "name": "stdout",
     "output_type": "stream",
     "text": [
      "MAE: 0.08258258258258258\n",
      "MSE: 0.08258258258258258\n",
      "RMSE: 0.2873718541934519\n"
     ]
    }
   ],
   "source": [
    "#Evaluating the model\n",
    "\n",
    "from sklearn import metrics\n",
    "\n",
    "print('MAE:', metrics.mean_absolute_error(y_test, predictions))\n",
    "print('MSE:', metrics.mean_squared_error(y_test, predictions))\n",
    "print('RMSE:', np.sqrt(metrics.mean_squared_error(y_test, predictions)))"
   ]
  },
  {
   "cell_type": "code",
   "execution_count": 79,
   "metadata": {},
   "outputs": [
    {
     "data": {
      "text/plain": [
       "0.9174174174174174"
      ]
     },
     "execution_count": 79,
     "metadata": {},
     "output_type": "execute_result"
    }
   ],
   "source": [
    "#metrics\n",
    "\n",
    "from sklearn.metrics import accuracy_score\n",
    "accuracy_score(y_test, predictions)"
   ]
  },
  {
   "cell_type": "code",
   "execution_count": 81,
   "metadata": {},
   "outputs": [
    {
     "data": {
      "text/plain": [
       "array([[329,  31],\n",
       "       [ 24, 282]], dtype=int64)"
      ]
     },
     "execution_count": 81,
     "metadata": {},
     "output_type": "execute_result"
    }
   ],
   "source": [
    "from sklearn.metrics import confusion_matrix\n",
    "confusion_matrix(y_test, predictions)"
   ]
  },
  {
   "cell_type": "code",
   "execution_count": 78,
   "metadata": {},
   "outputs": [
    {
     "data": {
      "text/plain": [
       "[Text(192.81397804054055, 209.07692307692307, 'X[0] <= -58.005\\nentropy = 0.491\\nsamples = 1553\\nvalue = [878, 675]'),\n",
       " Text(145.48530405405407, 192.35076923076923, 'X[1] <= -26.508\\nentropy = 0.497\\nsamples = 494\\nvalue = [229, 265]'),\n",
       " Text(140.96097972972973, 175.62461538461537, 'entropy = 0.0\\nsamples = 229\\nvalue = [229, 0]'),\n",
       " Text(150.00962837837838, 175.62461538461537, 'entropy = 0.0\\nsamples = 265\\nvalue = [0, 265]'),\n",
       " Text(240.14265202702705, 192.35076923076923, 'X[1] <= 16.175\\nentropy = 0.475\\nsamples = 1059\\nvalue = [649, 410]'),\n",
       " Text(159.05827702702703, 175.62461538461537, 'X[0] <= 3.655\\nentropy = 0.487\\nsamples = 602\\nvalue = [253, 349]'),\n",
       " Text(87.09324324324325, 158.89846153846153, 'X[1] <= -28.987\\nentropy = 0.389\\nsamples = 276\\nvalue = [203, 73]'),\n",
       " Text(45.24324324324325, 142.1723076923077, 'X[0] <= -13.329\\nentropy = 0.165\\nsamples = 198\\nvalue = [180, 18]'),\n",
       " Text(22.621621621621625, 125.44615384615385, 'X[1] <= -40.224\\nentropy = 0.08\\nsamples = 167\\nvalue = [160, 7]'),\n",
       " Text(9.04864864864865, 108.72, 'X[0] <= -21.069\\nentropy = 0.026\\nsamples = 149\\nvalue = [147, 2]'),\n",
       " Text(4.524324324324325, 91.99384615384615, 'entropy = 0.0\\nsamples = 127\\nvalue = [127, 0]'),\n",
       " Text(13.572972972972973, 91.99384615384615, 'X[0] <= -20.99\\nentropy = 0.165\\nsamples = 22\\nvalue = [20, 2]'),\n",
       " Text(9.04864864864865, 75.2676923076923, 'entropy = 0.0\\nsamples = 1\\nvalue = [0, 1]'),\n",
       " Text(18.0972972972973, 75.2676923076923, 'X[0] <= -19.231\\nentropy = 0.091\\nsamples = 21\\nvalue = [20, 1]'),\n",
       " Text(13.572972972972973, 58.541538461538465, 'X[0] <= -19.365\\nentropy = 0.245\\nsamples = 7\\nvalue = [6, 1]'),\n",
       " Text(9.04864864864865, 41.81538461538463, 'entropy = 0.0\\nsamples = 6\\nvalue = [6, 0]'),\n",
       " Text(18.0972972972973, 41.81538461538463, 'entropy = 0.0\\nsamples = 1\\nvalue = [0, 1]'),\n",
       " Text(22.621621621621625, 58.541538461538465, 'entropy = 0.0\\nsamples = 14\\nvalue = [14, 0]'),\n",
       " Text(36.1945945945946, 108.72, 'X[1] <= -39.186\\nentropy = 0.401\\nsamples = 18\\nvalue = [13, 5]'),\n",
       " Text(31.670270270270272, 91.99384615384615, 'entropy = 0.0\\nsamples = 1\\nvalue = [0, 1]'),\n",
       " Text(40.718918918918924, 91.99384615384615, 'X[0] <= -22.467\\nentropy = 0.36\\nsamples = 17\\nvalue = [13, 4]'),\n",
       " Text(36.1945945945946, 75.2676923076923, 'X[1] <= -31.129\\nentropy = 0.463\\nsamples = 11\\nvalue = [7, 4]'),\n",
       " Text(31.670270270270272, 58.541538461538465, 'X[1] <= -32.321\\nentropy = 0.5\\nsamples = 8\\nvalue = [4, 4]'),\n",
       " Text(27.145945945945947, 41.81538461538463, 'X[1] <= -34.651\\nentropy = 0.444\\nsamples = 6\\nvalue = [4, 2]'),\n",
       " Text(22.621621621621625, 25.089230769230767, 'X[1] <= -38.325\\nentropy = 0.444\\nsamples = 3\\nvalue = [1, 2]'),\n",
       " Text(18.0972972972973, 8.363076923076932, 'entropy = 0.0\\nsamples = 1\\nvalue = [1, 0]'),\n",
       " Text(27.145945945945947, 8.363076923076932, 'entropy = 0.0\\nsamples = 2\\nvalue = [0, 2]'),\n",
       " Text(31.670270270270272, 25.089230769230767, 'entropy = 0.0\\nsamples = 3\\nvalue = [3, 0]'),\n",
       " Text(36.1945945945946, 41.81538461538463, 'entropy = 0.0\\nsamples = 2\\nvalue = [0, 2]'),\n",
       " Text(40.718918918918924, 58.541538461538465, 'entropy = 0.0\\nsamples = 3\\nvalue = [3, 0]'),\n",
       " Text(45.24324324324325, 75.2676923076923, 'entropy = 0.0\\nsamples = 6\\nvalue = [6, 0]'),\n",
       " Text(67.86486486486487, 125.44615384615385, 'X[0] <= -11.964\\nentropy = 0.458\\nsamples = 31\\nvalue = [20, 11]'),\n",
       " Text(63.340540540540545, 108.72, 'entropy = 0.0\\nsamples = 2\\nvalue = [0, 2]'),\n",
       " Text(72.3891891891892, 108.72, 'X[0] <= 0.548\\nentropy = 0.428\\nsamples = 29\\nvalue = [20, 9]'),\n",
       " Text(63.340540540540545, 91.99384615384615, 'X[1] <= -39.486\\nentropy = 0.365\\nsamples = 25\\nvalue = [19, 6]'),\n",
       " Text(58.81621621621622, 75.2676923076923, 'X[1] <= -51.299\\nentropy = 0.469\\nsamples = 16\\nvalue = [10, 6]'),\n",
       " Text(49.767567567567575, 58.541538461538465, 'X[0] <= -3.718\\nentropy = 0.298\\nsamples = 11\\nvalue = [9, 2]'),\n",
       " Text(45.24324324324325, 41.81538461538463, 'entropy = 0.0\\nsamples = 8\\nvalue = [8, 0]'),\n",
       " Text(54.29189189189189, 41.81538461538463, 'X[0] <= -2.911\\nentropy = 0.444\\nsamples = 3\\nvalue = [1, 2]'),\n",
       " Text(49.767567567567575, 25.089230769230767, 'entropy = 0.0\\nsamples = 2\\nvalue = [0, 2]'),\n",
       " Text(58.81621621621622, 25.089230769230767, 'entropy = 0.0\\nsamples = 1\\nvalue = [1, 0]'),\n",
       " Text(67.86486486486487, 58.541538461538465, 'X[0] <= -5.894\\nentropy = 0.32\\nsamples = 5\\nvalue = [1, 4]'),\n",
       " Text(63.340540540540545, 41.81538461538463, 'entropy = 0.0\\nsamples = 4\\nvalue = [0, 4]'),\n",
       " Text(72.3891891891892, 41.81538461538463, 'entropy = 0.0\\nsamples = 1\\nvalue = [1, 0]'),\n",
       " Text(67.86486486486487, 75.2676923076923, 'entropy = 0.0\\nsamples = 9\\nvalue = [9, 0]'),\n",
       " Text(81.43783783783785, 91.99384615384615, 'X[1] <= -33.326\\nentropy = 0.375\\nsamples = 4\\nvalue = [1, 3]'),\n",
       " Text(76.91351351351352, 75.2676923076923, 'entropy = 0.0\\nsamples = 3\\nvalue = [0, 3]'),\n",
       " Text(85.96216216216217, 75.2676923076923, 'entropy = 0.0\\nsamples = 1\\nvalue = [1, 0]'),\n",
       " Text(128.94324324324324, 142.1723076923077, 'X[1] <= -3.241\\nentropy = 0.416\\nsamples = 78\\nvalue = [23, 55]'),\n",
       " Text(117.63243243243244, 125.44615384615385, 'X[1] <= -10.833\\nentropy = 0.498\\nsamples = 43\\nvalue = [20, 23]'),\n",
       " Text(108.58378378378379, 108.72, 'X[0] <= 1.441\\nentropy = 0.457\\nsamples = 34\\nvalue = [12, 22]'),\n",
       " Text(104.05945945945948, 91.99384615384615, 'X[0] <= -10.418\\nentropy = 0.412\\nsamples = 31\\nvalue = [9, 22]'),\n",
       " Text(99.53513513513515, 75.2676923076923, 'X[1] <= -18.599\\nentropy = 0.495\\nsamples = 20\\nvalue = [9, 11]'),\n",
       " Text(85.96216216216217, 58.541538461538465, 'X[0] <= -38.407\\nentropy = 0.346\\nsamples = 9\\nvalue = [7, 2]'),\n",
       " Text(81.43783783783785, 41.81538461538463, 'entropy = 0.0\\nsamples = 1\\nvalue = [0, 1]'),\n",
       " Text(90.4864864864865, 41.81538461538463, 'X[1] <= -23.383\\nentropy = 0.219\\nsamples = 8\\nvalue = [7, 1]'),\n",
       " Text(85.96216216216217, 25.089230769230767, 'X[1] <= -24.867\\nentropy = 0.444\\nsamples = 3\\nvalue = [2, 1]'),\n",
       " Text(81.43783783783785, 8.363076923076932, 'entropy = 0.0\\nsamples = 2\\nvalue = [2, 0]'),\n",
       " Text(90.4864864864865, 8.363076923076932, 'entropy = 0.0\\nsamples = 1\\nvalue = [0, 1]'),\n",
       " Text(95.01081081081082, 25.089230769230767, 'entropy = 0.0\\nsamples = 5\\nvalue = [5, 0]'),\n",
       " Text(113.10810810810811, 58.541538461538465, 'X[1] <= -13.514\\nentropy = 0.298\\nsamples = 11\\nvalue = [2, 9]'),\n",
       " Text(108.58378378378379, 41.81538461538463, 'X[1] <= -14.602\\nentropy = 0.48\\nsamples = 5\\nvalue = [2, 3]'),\n",
       " Text(104.05945945945948, 25.089230769230767, 'entropy = 0.0\\nsamples = 3\\nvalue = [0, 3]'),\n",
       " Text(113.10810810810811, 25.089230769230767, 'entropy = 0.0\\nsamples = 2\\nvalue = [2, 0]'),\n",
       " Text(117.63243243243244, 41.81538461538463, 'entropy = 0.0\\nsamples = 6\\nvalue = [0, 6]'),\n",
       " Text(108.58378378378379, 75.2676923076923, 'entropy = 0.0\\nsamples = 11\\nvalue = [0, 11]'),\n",
       " Text(113.10810810810811, 91.99384615384615, 'entropy = 0.0\\nsamples = 3\\nvalue = [3, 0]'),\n",
       " Text(126.68108108108109, 108.72, 'X[0] <= -21.74\\nentropy = 0.198\\nsamples = 9\\nvalue = [8, 1]'),\n",
       " Text(122.15675675675676, 91.99384615384615, 'X[1] <= -7.651\\nentropy = 0.5\\nsamples = 2\\nvalue = [1, 1]'),\n",
       " Text(117.63243243243244, 75.2676923076923, 'entropy = 0.0\\nsamples = 1\\nvalue = [1, 0]'),\n",
       " Text(126.68108108108109, 75.2676923076923, 'entropy = 0.0\\nsamples = 1\\nvalue = [0, 1]'),\n",
       " Text(131.20540540540543, 91.99384615384615, 'entropy = 0.0\\nsamples = 7\\nvalue = [7, 0]'),\n",
       " Text(140.25405405405408, 125.44615384615385, 'X[0] <= -9.867\\nentropy = 0.157\\nsamples = 35\\nvalue = [3, 32]'),\n",
       " Text(135.72972972972974, 108.72, 'entropy = 0.0\\nsamples = 27\\nvalue = [0, 27]'),\n",
       " Text(144.7783783783784, 108.72, 'X[0] <= -6.27\\nentropy = 0.469\\nsamples = 8\\nvalue = [3, 5]'),\n",
       " Text(140.25405405405408, 91.99384615384615, 'entropy = 0.0\\nsamples = 1\\nvalue = [1, 0]'),\n",
       " Text(149.3027027027027, 91.99384615384615, 'X[1] <= 1.764\\nentropy = 0.408\\nsamples = 7\\nvalue = [2, 5]'),\n",
       " Text(144.7783783783784, 75.2676923076923, 'entropy = 0.0\\nsamples = 2\\nvalue = [0, 2]'),\n",
       " Text(153.82702702702704, 75.2676923076923, 'X[1] <= 9.5\\nentropy = 0.48\\nsamples = 5\\nvalue = [2, 3]'),\n",
       " Text(149.3027027027027, 58.541538461538465, 'X[1] <= 3.946\\nentropy = 0.444\\nsamples = 3\\nvalue = [2, 1]'),\n",
       " Text(144.7783783783784, 41.81538461538463, 'entropy = 0.0\\nsamples = 1\\nvalue = [1, 0]'),\n",
       " Text(153.82702702702704, 41.81538461538463, 'X[1] <= 5.79\\nentropy = 0.5\\nsamples = 2\\nvalue = [1, 1]'),\n",
       " Text(149.3027027027027, 25.089230769230767, 'entropy = 0.0\\nsamples = 1\\nvalue = [0, 1]'),\n",
       " Text(158.35135135135135, 25.089230769230767, 'entropy = 0.0\\nsamples = 1\\nvalue = [1, 0]'),\n",
       " Text(158.35135135135135, 58.541538461538465, 'entropy = 0.0\\nsamples = 2\\nvalue = [0, 2]'),\n",
       " Text(231.02331081081084, 158.89846153846153, 'X[1] <= -15.018\\nentropy = 0.26\\nsamples = 326\\nvalue = [50, 276]'),\n",
       " Text(180.40743243243244, 142.1723076923077, 'X[1] <= -39.178\\nentropy = 0.057\\nsamples = 271\\nvalue = [8, 263]'),\n",
       " Text(167.4, 125.44615384615385, 'X[0] <= 6.234\\nentropy = 0.008\\nsamples = 240\\nvalue = [1, 239]'),\n",
       " Text(162.8756756756757, 108.72, 'X[0] <= 4.135\\nentropy = 0.5\\nsamples = 2\\nvalue = [1, 1]'),\n",
       " Text(158.35135135135135, 91.99384615384615, 'entropy = 0.0\\nsamples = 1\\nvalue = [0, 1]'),\n",
       " Text(167.4, 91.99384615384615, 'entropy = 0.0\\nsamples = 1\\nvalue = [1, 0]'),\n",
       " Text(171.92432432432435, 108.72, 'entropy = 0.0\\nsamples = 238\\nvalue = [0, 238]'),\n",
       " Text(193.41486486486488, 125.44615384615385, 'X[1] <= -38.22\\nentropy = 0.35\\nsamples = 31\\nvalue = [7, 24]'),\n",
       " Text(180.972972972973, 108.72, 'X[0] <= 35.062\\nentropy = 0.444\\nsamples = 3\\nvalue = [2, 1]'),\n",
       " Text(176.44864864864866, 91.99384615384615, 'entropy = 0.0\\nsamples = 2\\nvalue = [2, 0]'),\n",
       " Text(185.4972972972973, 91.99384615384615, 'entropy = 0.0\\nsamples = 1\\nvalue = [0, 1]'),\n",
       " Text(205.85675675675677, 108.72, 'X[1] <= -25.769\\nentropy = 0.293\\nsamples = 28\\nvalue = [5, 23]'),\n",
       " Text(194.54594594594596, 91.99384615384615, 'X[1] <= -30.789\\nentropy = 0.391\\nsamples = 15\\nvalue = [4, 11]'),\n",
       " Text(185.4972972972973, 75.2676923076923, 'X[0] <= 29.493\\nentropy = 0.278\\nsamples = 12\\nvalue = [2, 10]'),\n",
       " Text(180.972972972973, 58.541538461538465, 'X[0] <= 26.737\\nentropy = 0.375\\nsamples = 8\\nvalue = [2, 6]'),\n",
       " Text(176.44864864864866, 41.81538461538463, 'X[0] <= 21.48\\nentropy = 0.245\\nsamples = 7\\nvalue = [1, 6]'),\n",
       " Text(171.92432432432435, 25.089230769230767, 'X[0] <= 20.7\\nentropy = 0.444\\nsamples = 3\\nvalue = [1, 2]'),\n",
       " Text(167.4, 8.363076923076932, 'entropy = 0.0\\nsamples = 2\\nvalue = [0, 2]'),\n",
       " Text(176.44864864864866, 8.363076923076932, 'entropy = 0.0\\nsamples = 1\\nvalue = [1, 0]'),\n",
       " Text(180.972972972973, 25.089230769230767, 'entropy = 0.0\\nsamples = 4\\nvalue = [0, 4]'),\n",
       " Text(185.4972972972973, 41.81538461538463, 'entropy = 0.0\\nsamples = 1\\nvalue = [1, 0]'),\n",
       " Text(190.02162162162165, 58.541538461538465, 'entropy = 0.0\\nsamples = 4\\nvalue = [0, 4]'),\n",
       " Text(203.5945945945946, 75.2676923076923, 'X[0] <= 44.805\\nentropy = 0.444\\nsamples = 3\\nvalue = [2, 1]'),\n",
       " Text(199.0702702702703, 58.541538461538465, 'entropy = 0.0\\nsamples = 2\\nvalue = [2, 0]'),\n",
       " Text(208.11891891891895, 58.541538461538465, 'entropy = 0.0\\nsamples = 1\\nvalue = [0, 1]'),\n",
       " Text(217.16756756756757, 91.99384615384615, 'X[0] <= 15.133\\nentropy = 0.142\\nsamples = 13\\nvalue = [1, 12]'),\n",
       " Text(212.64324324324326, 75.2676923076923, 'entropy = 0.0\\nsamples = 6\\nvalue = [0, 6]'),\n",
       " Text(221.6918918918919, 75.2676923076923, 'X[0] <= 16.44\\nentropy = 0.245\\nsamples = 7\\nvalue = [1, 6]'),\n",
       " Text(217.16756756756757, 58.541538461538465, 'entropy = 0.0\\nsamples = 1\\nvalue = [1, 0]'),\n",
       " Text(226.21621621621622, 58.541538461538465, 'entropy = 0.0\\nsamples = 6\\nvalue = [0, 6]'),\n",
       " Text(281.6391891891892, 142.1723076923077, 'X[1] <= 3.432\\nentropy = 0.361\\nsamples = 55\\nvalue = [42, 13]'),\n",
       " Text(264.672972972973, 125.44615384615385, 'X[0] <= 29.697\\nentropy = 0.499\\nsamples = 23\\nvalue = [11, 12]'),\n",
       " Text(253.36216216216218, 108.72, 'X[1] <= -9.667\\nentropy = 0.457\\nsamples = 17\\nvalue = [6, 11]'),\n",
       " Text(244.31351351351353, 91.99384615384615, 'X[0] <= 12.219\\nentropy = 0.32\\nsamples = 5\\nvalue = [4, 1]'),\n",
       " Text(239.78918918918922, 75.2676923076923, 'X[1] <= -11.976\\nentropy = 0.5\\nsamples = 2\\nvalue = [1, 1]'),\n",
       " Text(235.26486486486488, 58.541538461538465, 'entropy = 0.0\\nsamples = 1\\nvalue = [0, 1]'),\n",
       " Text(244.31351351351353, 58.541538461538465, 'entropy = 0.0\\nsamples = 1\\nvalue = [1, 0]'),\n",
       " Text(248.83783783783787, 75.2676923076923, 'entropy = 0.0\\nsamples = 3\\nvalue = [3, 0]'),\n",
       " Text(262.41081081081086, 91.99384615384615, 'X[0] <= 15.803\\nentropy = 0.278\\nsamples = 12\\nvalue = [2, 10]'),\n",
       " Text(257.8864864864865, 75.2676923076923, 'X[1] <= 0.217\\nentropy = 0.48\\nsamples = 5\\nvalue = [2, 3]'),\n",
       " Text(253.36216216216218, 58.541538461538465, 'entropy = 0.0\\nsamples = 2\\nvalue = [2, 0]'),\n",
       " Text(262.41081081081086, 58.541538461538465, 'entropy = 0.0\\nsamples = 3\\nvalue = [0, 3]'),\n",
       " Text(266.93513513513517, 75.2676923076923, 'entropy = 0.0\\nsamples = 7\\nvalue = [0, 7]'),\n",
       " Text(275.9837837837838, 108.72, 'X[1] <= -6.683\\nentropy = 0.278\\nsamples = 6\\nvalue = [5, 1]'),\n",
       " Text(271.4594594594595, 91.99384615384615, 'entropy = 0.0\\nsamples = 1\\nvalue = [0, 1]'),\n",
       " Text(280.50810810810816, 91.99384615384615, 'entropy = 0.0\\nsamples = 5\\nvalue = [5, 0]'),\n",
       " Text(298.6054054054054, 125.44615384615385, 'X[0] <= 10.845\\nentropy = 0.061\\nsamples = 32\\nvalue = [31, 1]'),\n",
       " Text(294.0810810810811, 108.72, 'X[0] <= 9.554\\nentropy = 0.444\\nsamples = 3\\nvalue = [2, 1]'),\n",
       " Text(289.5567567567568, 91.99384615384615, 'entropy = 0.0\\nsamples = 2\\nvalue = [2, 0]'),\n",
       " Text(298.6054054054054, 91.99384615384615, 'entropy = 0.0\\nsamples = 1\\nvalue = [0, 1]'),\n",
       " Text(303.1297297297298, 108.72, 'entropy = 0.0\\nsamples = 29\\nvalue = [29, 0]'),\n",
       " Text(321.2270270270271, 175.62461538461537, 'X[0] <= -6.918\\nentropy = 0.231\\nsamples = 457\\nvalue = [396, 61]'),\n",
       " Text(316.7027027027027, 158.89846153846153, 'entropy = 0.0\\nsamples = 57\\nvalue = [0, 57]'),\n",
       " Text(325.7513513513514, 158.89846153846153, 'X[0] <= 21.597\\nentropy = 0.02\\nsamples = 400\\nvalue = [396, 4]'),\n",
       " Text(321.2270270270271, 142.1723076923077, 'X[0] <= 20.367\\nentropy = 0.308\\nsamples = 21\\nvalue = [17, 4]'),\n",
       " Text(316.7027027027027, 125.44615384615385, 'X[1] <= 23.49\\nentropy = 0.188\\nsamples = 19\\nvalue = [17, 2]'),\n",
       " Text(312.1783783783784, 108.72, 'X[0] <= 6.992\\nentropy = 0.444\\nsamples = 6\\nvalue = [4, 2]'),\n",
       " Text(307.6540540540541, 91.99384615384615, 'X[1] <= 21.053\\nentropy = 0.444\\nsamples = 3\\nvalue = [1, 2]'),\n",
       " Text(303.1297297297298, 75.2676923076923, 'entropy = 0.0\\nsamples = 1\\nvalue = [1, 0]'),\n",
       " Text(312.1783783783784, 75.2676923076923, 'entropy = 0.0\\nsamples = 2\\nvalue = [0, 2]'),\n",
       " Text(316.7027027027027, 91.99384615384615, 'entropy = 0.0\\nsamples = 3\\nvalue = [3, 0]'),\n",
       " Text(321.2270270270271, 108.72, 'entropy = 0.0\\nsamples = 13\\nvalue = [13, 0]'),\n",
       " Text(325.7513513513514, 125.44615384615385, 'entropy = 0.0\\nsamples = 2\\nvalue = [0, 2]'),\n",
       " Text(330.2756756756757, 142.1723076923077, 'entropy = 0.0\\nsamples = 379\\nvalue = [379, 0]')]"
      ]
     },
     "execution_count": 78,
     "metadata": {},
     "output_type": "execute_result"
    },
    {
     "data": {
      "image/png": "[encoded data removed]",
      "text/plain": [
       "<Figure size 432x288 with 1 Axes>"
      ]
     },
     "metadata": {
      "needs_background": "light"
     },
     "output_type": "display_data"
    }
   ],
   "source": [
    "import matplotlib.pyplot as plt\n",
    "from sklearn import tree\n",
    "\n",
    "tree.plot_tree(dt)"
   ]
  },
  {
   "cell_type": "code",
   "execution_count": 83,
   "metadata": {
    "scrolled": true
   },
   "outputs": [
    {
     "name": "stdout",
     "output_type": "stream",
     "text": [
      "              precision    recall  f1-score   support\n",
      "\n",
      "           0       0.93      0.91      0.92       360\n",
      "           1       0.90      0.92      0.91       306\n",
      "\n",
      "    accuracy                           0.92       666\n",
      "   macro avg       0.92      0.92      0.92       666\n",
      "weighted avg       0.92      0.92      0.92       666\n",
      "\n"
     ]
    }
   ],
   "source": [
    "from sklearn.metrics import classification_report\n",
    "class_rep_tree = classification_report(y_test, predictions)\n",
    "print(class_rep_tree)"
   ]
  },
  {
   "cell_type": "code",
   "execution_count": null,
   "metadata": {},
   "outputs": [],
   "source": [
    "##Although our tree's performance is decent, it's a bad idea to immediately assume that \n",
    "#it's therefore the perfect tool for this job -- there's always the possibility of other models that will perform even better!"
   ]
  },
  {
   "cell_type": "code",
   "execution_count": 84,
   "metadata": {},
   "outputs": [
    {
     "name": "stderr",
     "output_type": "stream",
     "text": [
      "C:\\Users\\SANDHYA\\Anaconda3\\lib\\site-packages\\sklearn\\linear_model\\logistic.py:432: FutureWarning: Default solver will be changed to 'lbfgs' in 0.22. Specify a solver to silence this warning.\n",
      "  FutureWarning)\n",
      "C:\\Users\\SANDHYA\\Anaconda3\\lib\\site-packages\\sklearn\\svm\\base.py:929: ConvergenceWarning: Liblinear failed to converge, increase the number of iterations.\n",
      "  \"the number of iterations.\", ConvergenceWarning)\n"
     ]
    },
    {
     "name": "stdout",
     "output_type": "stream",
     "text": [
      "Decision Tree: \n",
      "               precision    recall  f1-score   support\n",
      "\n",
      "           0       0.93      0.91      0.92       360\n",
      "           1       0.90      0.92      0.91       306\n",
      "\n",
      "    accuracy                           0.92       666\n",
      "   macro avg       0.92      0.92      0.92       666\n",
      "weighted avg       0.92      0.92      0.92       666\n",
      "\n",
      "Logistic Regression: \n",
      "               precision    recall  f1-score   support\n",
      "\n",
      "           0       0.93      0.91      0.92       360\n",
      "           1       0.90      0.92      0.91       306\n",
      "\n",
      "    accuracy                           0.92       666\n",
      "   macro avg       0.92      0.92      0.92       666\n",
      "weighted avg       0.92      0.92      0.92       666\n",
      "\n"
     ]
    }
   ],
   "source": [
    "#Compare our decision tree to a logistic regression\n",
    "\n",
    "# Import LogisticRegression\n",
    "from sklearn.linear_model import LogisticRegression\n",
    "\n",
    "# Train our logistic regression and predict labels for the test set\n",
    "logreg = LogisticRegression(random_state = 10)\n",
    "logreg.fit(X_train, y_train)\n",
    "pred_labels_logit = logreg.predict(X_test)\n",
    "\n",
    "# Create the classification report for both models\n",
    "from sklearn.metrics import classification_report\n",
    "class_rep_tree = classification_report(y_test, predictions)\n",
    "class_rep_log = classification_report(y_test, predictions)\n",
    "\n",
    "print(\"Decision Tree: \\n\", class_rep_tree)\n",
    "print(\"Logistic Regression: \\n\", class_rep_log)"
   ]
  },
  {
   "cell_type": "code",
   "execution_count": 86,
   "metadata": {},
   "outputs": [
    {
     "name": "stdout",
     "output_type": "stream",
     "text": [
      "Decision Tree: 0.9409908495050103 Logistic Regression: 0.5715217362385931\n"
     ]
    },
    {
     "name": "stderr",
     "output_type": "stream",
     "text": [
      "C:\\Users\\SANDHYA\\Anaconda3\\lib\\site-packages\\sklearn\\linear_model\\logistic.py:432: FutureWarning: Default solver will be changed to 'lbfgs' in 0.22. Specify a solver to silence this warning.\n",
      "  FutureWarning)\n",
      "C:\\Users\\SANDHYA\\Anaconda3\\lib\\site-packages\\sklearn\\svm\\base.py:929: ConvergenceWarning: Liblinear failed to converge, increase the number of iterations.\n",
      "  \"the number of iterations.\", ConvergenceWarning)\n",
      "C:\\Users\\SANDHYA\\Anaconda3\\lib\\site-packages\\sklearn\\linear_model\\logistic.py:432: FutureWarning: Default solver will be changed to 'lbfgs' in 0.22. Specify a solver to silence this warning.\n",
      "  FutureWarning)\n",
      "C:\\Users\\SANDHYA\\Anaconda3\\lib\\site-packages\\sklearn\\linear_model\\logistic.py:432: FutureWarning: Default solver will be changed to 'lbfgs' in 0.22. Specify a solver to silence this warning.\n",
      "  FutureWarning)\n",
      "C:\\Users\\SANDHYA\\Anaconda3\\lib\\site-packages\\sklearn\\svm\\base.py:929: ConvergenceWarning: Liblinear failed to converge, increase the number of iterations.\n",
      "  \"the number of iterations.\", ConvergenceWarning)\n",
      "C:\\Users\\SANDHYA\\Anaconda3\\lib\\site-packages\\sklearn\\linear_model\\logistic.py:432: FutureWarning: Default solver will be changed to 'lbfgs' in 0.22. Specify a solver to silence this warning.\n",
      "  FutureWarning)\n",
      "C:\\Users\\SANDHYA\\Anaconda3\\lib\\site-packages\\sklearn\\svm\\base.py:929: ConvergenceWarning: Liblinear failed to converge, increase the number of iterations.\n",
      "  \"the number of iterations.\", ConvergenceWarning)\n",
      "C:\\Users\\SANDHYA\\Anaconda3\\lib\\site-packages\\sklearn\\linear_model\\logistic.py:432: FutureWarning: Default solver will be changed to 'lbfgs' in 0.22. Specify a solver to silence this warning.\n",
      "  FutureWarning)\n",
      "C:\\Users\\SANDHYA\\Anaconda3\\lib\\site-packages\\sklearn\\svm\\base.py:929: ConvergenceWarning: Liblinear failed to converge, increase the number of iterations.\n",
      "  \"the number of iterations.\", ConvergenceWarning)\n",
      "C:\\Users\\SANDHYA\\Anaconda3\\lib\\site-packages\\sklearn\\linear_model\\logistic.py:432: FutureWarning: Default solver will be changed to 'lbfgs' in 0.22. Specify a solver to silence this warning.\n",
      "  FutureWarning)\n",
      "C:\\Users\\SANDHYA\\Anaconda3\\lib\\site-packages\\sklearn\\svm\\base.py:929: ConvergenceWarning: Liblinear failed to converge, increase the number of iterations.\n",
      "  \"the number of iterations.\", ConvergenceWarning)\n",
      "C:\\Users\\SANDHYA\\Anaconda3\\lib\\site-packages\\sklearn\\linear_model\\logistic.py:432: FutureWarning: Default solver will be changed to 'lbfgs' in 0.22. Specify a solver to silence this warning.\n",
      "  FutureWarning)\n",
      "C:\\Users\\SANDHYA\\Anaconda3\\lib\\site-packages\\sklearn\\linear_model\\logistic.py:432: FutureWarning: Default solver will be changed to 'lbfgs' in 0.22. Specify a solver to silence this warning.\n",
      "  FutureWarning)\n",
      "C:\\Users\\SANDHYA\\Anaconda3\\lib\\site-packages\\sklearn\\svm\\base.py:929: ConvergenceWarning: Liblinear failed to converge, increase the number of iterations.\n",
      "  \"the number of iterations.\", ConvergenceWarning)\n",
      "C:\\Users\\SANDHYA\\Anaconda3\\lib\\site-packages\\sklearn\\linear_model\\logistic.py:432: FutureWarning: Default solver will be changed to 'lbfgs' in 0.22. Specify a solver to silence this warning.\n",
      "  FutureWarning)\n",
      "C:\\Users\\SANDHYA\\Anaconda3\\lib\\site-packages\\sklearn\\svm\\base.py:929: ConvergenceWarning: Liblinear failed to converge, increase the number of iterations.\n",
      "  \"the number of iterations.\", ConvergenceWarning)\n",
      "C:\\Users\\SANDHYA\\Anaconda3\\lib\\site-packages\\sklearn\\linear_model\\logistic.py:432: FutureWarning: Default solver will be changed to 'lbfgs' in 0.22. Specify a solver to silence this warning.\n",
      "  FutureWarning)\n",
      "C:\\Users\\SANDHYA\\Anaconda3\\lib\\site-packages\\sklearn\\svm\\base.py:929: ConvergenceWarning: Liblinear failed to converge, increase the number of iterations.\n",
      "  \"the number of iterations.\", ConvergenceWarning)\n"
     ]
    }
   ],
   "source": [
    "from sklearn.model_selection import cross_val_score,StratifiedKFold,cross_val_predict\n",
    "\n",
    "# Set up our K-fold cross-validation\n",
    "kf = StratifiedKFold(n_splits=10,)\n",
    "\n",
    "decision_tree = DecisionTreeClassifier()\n",
    "logistic_reg = LogisticRegression(max_iter=100)\n",
    "\n",
    "# Train our models using KFold cv\n",
    "dtree_score = cross_val_score(decision_tree,X_train,y_train, cv = kf,scoring='roc_auc')\n",
    "lr_score = cross_val_score(logistic_reg,X_train,y_train, cv = kf,scoring='roc_auc')\n",
    "\n",
    "# Print the mean of each array of scores\n",
    "print(\"Decision Tree:\", np.mean(dtree_score),\"Logistic Regression:\", np.mean(lr_score))"
   ]
  },
  {
   "cell_type": "markdown",
   "metadata": {},
   "source": [
    "#After applying both Decision tree classifier and logistic regression, it is found that data could not be we,ll trained by logistic regression and so is accuracy 57%\n",
    "\n",
    "But from decision tree, it is 92% of accuracy"
   ]
  }
 ],
 "metadata": {
  "kernelspec": {
   "display_name": "Python 3",
   "language": "python",
   "name": "python3"
  },
  "language_info": {
   "codemirror_mode": {
    "name": "ipython",
    "version": 3
   },
   "file_extension": ".py",
   "mimetype": "text/x-python",
   "name": "python",
   "nbconvert_exporter": "python",
   "pygments_lexer": "ipython3",
   "version": "3.7.3"
  }
 },
 "nbformat": 4,
 "nbformat_minor": 2
}
